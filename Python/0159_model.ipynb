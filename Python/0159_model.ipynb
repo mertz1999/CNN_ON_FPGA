{
 "cells": [
  {
   "cell_type": "markdown",
   "id": "sensitive-proceeding",
   "metadata": {},
   "source": [
    "## PyTorch Convolutional Neural Network With MNIST Dataset"
   ]
  },
  {
   "cell_type": "code",
   "execution_count": 1,
   "id": "constitutional-revolution",
   "metadata": {},
   "outputs": [],
   "source": [
    "# --- pytorch utility imports\n",
    "import torch\n",
    "import torchvision\n",
    "import torchvision.transforms as transforms\n",
    "from torch.utils.data import DataLoader, TensorDataset\n",
    "import torch.onnx\n",
    "import onnx\n",
    "import math\n",
    "import functions\n",
    "\n",
    "# --- neural net imports\n",
    "import torch.nn as nn\n",
    "import torch.nn.functional as Ft\n",
    "import torch.optim as optim\n",
    "from torch.autograd import Variable\n"
   ]
  },
  {
   "cell_type": "code",
   "execution_count": 2,
   "id": "victorian-change",
   "metadata": {},
   "outputs": [
    {
     "data": {
      "text/plain": [
       "device(type='cpu')"
      ]
     },
     "execution_count": 2,
     "metadata": {},
     "output_type": "execute_result"
    }
   ],
   "source": [
    "# --- Device configuration\n",
    "device = torch.device('cuda' if torch.cuda.is_available() else 'cpu')\n",
    "device"
   ]
  },
  {
   "cell_type": "code",
   "execution_count": 3,
   "id": "geological-drinking",
   "metadata": {},
   "outputs": [],
   "source": [
    "# --- import external libraries\n",
    "import pandas as pd\n",
    "import numpy as np\n",
    "import matplotlib.pyplot as plt\n",
    "from sklearn.model_selection import train_test_split\n",
    "import os\n",
    "import math\n",
    "from scipy import signal\n",
    "from bitstring import Bits\n",
    "import time\n"
   ]
  },
  {
   "cell_type": "code",
   "execution_count": 4,
   "id": "authentic-teaching",
   "metadata": {},
   "outputs": [],
   "source": [
    "# --- Loading dataset\n",
    "input_folder_path = \"./data/\"\n",
    "train_df = pd.read_csv(input_folder_path+\"train_0159_7_7.csv\")\n",
    "test_df = pd.read_csv(input_folder_path+\"test.csv\")\n"
   ]
  },
  {
   "cell_type": "code",
   "execution_count": 5,
   "id": "coupled-arrival",
   "metadata": {},
   "outputs": [
    {
     "data": {
      "text/html": [
       "<div>\n",
       "<style scoped>\n",
       "    .dataframe tbody tr th:only-of-type {\n",
       "        vertical-align: middle;\n",
       "    }\n",
       "\n",
       "    .dataframe tbody tr th {\n",
       "        vertical-align: top;\n",
       "    }\n",
       "\n",
       "    .dataframe thead th {\n",
       "        text-align: right;\n",
       "    }\n",
       "</style>\n",
       "<table border=\"1\" class=\"dataframe\">\n",
       "  <thead>\n",
       "    <tr style=\"text-align: right;\">\n",
       "      <th></th>\n",
       "      <th>label</th>\n",
       "      <th>1</th>\n",
       "      <th>2</th>\n",
       "      <th>3</th>\n",
       "      <th>4</th>\n",
       "      <th>5</th>\n",
       "      <th>6</th>\n",
       "      <th>7</th>\n",
       "      <th>8</th>\n",
       "      <th>9</th>\n",
       "      <th>...</th>\n",
       "      <th>91</th>\n",
       "      <th>92</th>\n",
       "      <th>93</th>\n",
       "      <th>94</th>\n",
       "      <th>95</th>\n",
       "      <th>96</th>\n",
       "      <th>97</th>\n",
       "      <th>98</th>\n",
       "      <th>99</th>\n",
       "      <th>100</th>\n",
       "    </tr>\n",
       "  </thead>\n",
       "  <tbody>\n",
       "    <tr>\n",
       "      <th>0</th>\n",
       "      <td>0</td>\n",
       "      <td>0</td>\n",
       "      <td>0</td>\n",
       "      <td>0</td>\n",
       "      <td>0</td>\n",
       "      <td>0</td>\n",
       "      <td>0</td>\n",
       "      <td>0</td>\n",
       "      <td>0</td>\n",
       "      <td>0</td>\n",
       "      <td>...</td>\n",
       "      <td>0</td>\n",
       "      <td>0</td>\n",
       "      <td>0</td>\n",
       "      <td>0</td>\n",
       "      <td>0</td>\n",
       "      <td>0</td>\n",
       "      <td>0</td>\n",
       "      <td>0</td>\n",
       "      <td>0</td>\n",
       "      <td>0</td>\n",
       "    </tr>\n",
       "    <tr>\n",
       "      <th>1</th>\n",
       "      <td>0</td>\n",
       "      <td>0</td>\n",
       "      <td>0</td>\n",
       "      <td>0</td>\n",
       "      <td>0</td>\n",
       "      <td>0</td>\n",
       "      <td>0</td>\n",
       "      <td>0</td>\n",
       "      <td>0</td>\n",
       "      <td>0</td>\n",
       "      <td>...</td>\n",
       "      <td>0</td>\n",
       "      <td>0</td>\n",
       "      <td>0</td>\n",
       "      <td>0</td>\n",
       "      <td>0</td>\n",
       "      <td>0</td>\n",
       "      <td>0</td>\n",
       "      <td>0</td>\n",
       "      <td>0</td>\n",
       "      <td>0</td>\n",
       "    </tr>\n",
       "    <tr>\n",
       "      <th>2</th>\n",
       "      <td>0</td>\n",
       "      <td>0</td>\n",
       "      <td>0</td>\n",
       "      <td>0</td>\n",
       "      <td>0</td>\n",
       "      <td>0</td>\n",
       "      <td>0</td>\n",
       "      <td>0</td>\n",
       "      <td>0</td>\n",
       "      <td>0</td>\n",
       "      <td>...</td>\n",
       "      <td>0</td>\n",
       "      <td>0</td>\n",
       "      <td>0</td>\n",
       "      <td>0</td>\n",
       "      <td>0</td>\n",
       "      <td>0</td>\n",
       "      <td>0</td>\n",
       "      <td>0</td>\n",
       "      <td>0</td>\n",
       "      <td>0</td>\n",
       "    </tr>\n",
       "    <tr>\n",
       "      <th>3</th>\n",
       "      <td>0</td>\n",
       "      <td>0</td>\n",
       "      <td>0</td>\n",
       "      <td>0</td>\n",
       "      <td>0</td>\n",
       "      <td>0</td>\n",
       "      <td>0</td>\n",
       "      <td>0</td>\n",
       "      <td>0</td>\n",
       "      <td>0</td>\n",
       "      <td>...</td>\n",
       "      <td>0</td>\n",
       "      <td>0</td>\n",
       "      <td>0</td>\n",
       "      <td>0</td>\n",
       "      <td>0</td>\n",
       "      <td>0</td>\n",
       "      <td>0</td>\n",
       "      <td>0</td>\n",
       "      <td>0</td>\n",
       "      <td>0</td>\n",
       "    </tr>\n",
       "    <tr>\n",
       "      <th>4</th>\n",
       "      <td>0</td>\n",
       "      <td>0</td>\n",
       "      <td>0</td>\n",
       "      <td>0</td>\n",
       "      <td>0</td>\n",
       "      <td>0</td>\n",
       "      <td>0</td>\n",
       "      <td>0</td>\n",
       "      <td>0</td>\n",
       "      <td>0</td>\n",
       "      <td>...</td>\n",
       "      <td>0</td>\n",
       "      <td>0</td>\n",
       "      <td>0</td>\n",
       "      <td>0</td>\n",
       "      <td>0</td>\n",
       "      <td>0</td>\n",
       "      <td>0</td>\n",
       "      <td>0</td>\n",
       "      <td>0</td>\n",
       "      <td>0</td>\n",
       "    </tr>\n",
       "    <tr>\n",
       "      <th>...</th>\n",
       "      <td>...</td>\n",
       "      <td>...</td>\n",
       "      <td>...</td>\n",
       "      <td>...</td>\n",
       "      <td>...</td>\n",
       "      <td>...</td>\n",
       "      <td>...</td>\n",
       "      <td>...</td>\n",
       "      <td>...</td>\n",
       "      <td>...</td>\n",
       "      <td>...</td>\n",
       "      <td>...</td>\n",
       "      <td>...</td>\n",
       "      <td>...</td>\n",
       "      <td>...</td>\n",
       "      <td>...</td>\n",
       "      <td>...</td>\n",
       "      <td>...</td>\n",
       "      <td>...</td>\n",
       "      <td>...</td>\n",
       "      <td>...</td>\n",
       "    </tr>\n",
       "    <tr>\n",
       "      <th>16794</th>\n",
       "      <td>9</td>\n",
       "      <td>0</td>\n",
       "      <td>0</td>\n",
       "      <td>0</td>\n",
       "      <td>0</td>\n",
       "      <td>0</td>\n",
       "      <td>0</td>\n",
       "      <td>0</td>\n",
       "      <td>0</td>\n",
       "      <td>0</td>\n",
       "      <td>...</td>\n",
       "      <td>0</td>\n",
       "      <td>0</td>\n",
       "      <td>0</td>\n",
       "      <td>0</td>\n",
       "      <td>178</td>\n",
       "      <td>0</td>\n",
       "      <td>0</td>\n",
       "      <td>0</td>\n",
       "      <td>0</td>\n",
       "      <td>0</td>\n",
       "    </tr>\n",
       "    <tr>\n",
       "      <th>16795</th>\n",
       "      <td>9</td>\n",
       "      <td>0</td>\n",
       "      <td>0</td>\n",
       "      <td>0</td>\n",
       "      <td>0</td>\n",
       "      <td>0</td>\n",
       "      <td>0</td>\n",
       "      <td>0</td>\n",
       "      <td>0</td>\n",
       "      <td>0</td>\n",
       "      <td>...</td>\n",
       "      <td>0</td>\n",
       "      <td>0</td>\n",
       "      <td>0</td>\n",
       "      <td>0</td>\n",
       "      <td>0</td>\n",
       "      <td>0</td>\n",
       "      <td>0</td>\n",
       "      <td>0</td>\n",
       "      <td>0</td>\n",
       "      <td>0</td>\n",
       "    </tr>\n",
       "    <tr>\n",
       "      <th>16796</th>\n",
       "      <td>9</td>\n",
       "      <td>0</td>\n",
       "      <td>0</td>\n",
       "      <td>0</td>\n",
       "      <td>0</td>\n",
       "      <td>0</td>\n",
       "      <td>0</td>\n",
       "      <td>0</td>\n",
       "      <td>0</td>\n",
       "      <td>0</td>\n",
       "      <td>...</td>\n",
       "      <td>0</td>\n",
       "      <td>0</td>\n",
       "      <td>0</td>\n",
       "      <td>0</td>\n",
       "      <td>0</td>\n",
       "      <td>0</td>\n",
       "      <td>81</td>\n",
       "      <td>0</td>\n",
       "      <td>0</td>\n",
       "      <td>0</td>\n",
       "    </tr>\n",
       "    <tr>\n",
       "      <th>16797</th>\n",
       "      <td>9</td>\n",
       "      <td>0</td>\n",
       "      <td>0</td>\n",
       "      <td>0</td>\n",
       "      <td>0</td>\n",
       "      <td>0</td>\n",
       "      <td>0</td>\n",
       "      <td>0</td>\n",
       "      <td>0</td>\n",
       "      <td>0</td>\n",
       "      <td>...</td>\n",
       "      <td>0</td>\n",
       "      <td>0</td>\n",
       "      <td>0</td>\n",
       "      <td>0</td>\n",
       "      <td>0</td>\n",
       "      <td>0</td>\n",
       "      <td>0</td>\n",
       "      <td>0</td>\n",
       "      <td>0</td>\n",
       "      <td>0</td>\n",
       "    </tr>\n",
       "    <tr>\n",
       "      <th>16798</th>\n",
       "      <td>9</td>\n",
       "      <td>0</td>\n",
       "      <td>0</td>\n",
       "      <td>0</td>\n",
       "      <td>0</td>\n",
       "      <td>0</td>\n",
       "      <td>0</td>\n",
       "      <td>0</td>\n",
       "      <td>0</td>\n",
       "      <td>0</td>\n",
       "      <td>...</td>\n",
       "      <td>0</td>\n",
       "      <td>0</td>\n",
       "      <td>0</td>\n",
       "      <td>0</td>\n",
       "      <td>0</td>\n",
       "      <td>0</td>\n",
       "      <td>0</td>\n",
       "      <td>0</td>\n",
       "      <td>0</td>\n",
       "      <td>0</td>\n",
       "    </tr>\n",
       "  </tbody>\n",
       "</table>\n",
       "<p>16799 rows × 101 columns</p>\n",
       "</div>"
      ],
      "text/plain": [
       "       label  1  2  3  4  5  6  7  8  9  ...  91  92  93  94   95  96  97  98  \\\n",
       "0          0  0  0  0  0  0  0  0  0  0  ...   0   0   0   0    0   0   0   0   \n",
       "1          0  0  0  0  0  0  0  0  0  0  ...   0   0   0   0    0   0   0   0   \n",
       "2          0  0  0  0  0  0  0  0  0  0  ...   0   0   0   0    0   0   0   0   \n",
       "3          0  0  0  0  0  0  0  0  0  0  ...   0   0   0   0    0   0   0   0   \n",
       "4          0  0  0  0  0  0  0  0  0  0  ...   0   0   0   0    0   0   0   0   \n",
       "...      ... .. .. .. .. .. .. .. .. ..  ...  ..  ..  ..  ..  ...  ..  ..  ..   \n",
       "16794      9  0  0  0  0  0  0  0  0  0  ...   0   0   0   0  178   0   0   0   \n",
       "16795      9  0  0  0  0  0  0  0  0  0  ...   0   0   0   0    0   0   0   0   \n",
       "16796      9  0  0  0  0  0  0  0  0  0  ...   0   0   0   0    0   0  81   0   \n",
       "16797      9  0  0  0  0  0  0  0  0  0  ...   0   0   0   0    0   0   0   0   \n",
       "16798      9  0  0  0  0  0  0  0  0  0  ...   0   0   0   0    0   0   0   0   \n",
       "\n",
       "       99  100  \n",
       "0       0    0  \n",
       "1       0    0  \n",
       "2       0    0  \n",
       "3       0    0  \n",
       "4       0    0  \n",
       "...    ..  ...  \n",
       "16794   0    0  \n",
       "16795   0    0  \n",
       "16796   0    0  \n",
       "16797   0    0  \n",
       "16798   0    0  \n",
       "\n",
       "[16799 rows x 101 columns]"
      ]
     },
     "execution_count": 5,
     "metadata": {},
     "output_type": "execute_result"
    }
   ],
   "source": [
    "train_df"
   ]
  },
  {
   "cell_type": "code",
   "execution_count": 6,
   "id": "stopped-intervention",
   "metadata": {},
   "outputs": [
    {
     "data": {
      "text/html": [
       "<div>\n",
       "<style scoped>\n",
       "    .dataframe tbody tr th:only-of-type {\n",
       "        vertical-align: middle;\n",
       "    }\n",
       "\n",
       "    .dataframe tbody tr th {\n",
       "        vertical-align: top;\n",
       "    }\n",
       "\n",
       "    .dataframe thead th {\n",
       "        text-align: right;\n",
       "    }\n",
       "</style>\n",
       "<table border=\"1\" class=\"dataframe\">\n",
       "  <thead>\n",
       "    <tr style=\"text-align: right;\">\n",
       "      <th></th>\n",
       "      <th>pixel0</th>\n",
       "      <th>pixel1</th>\n",
       "      <th>pixel2</th>\n",
       "      <th>pixel3</th>\n",
       "      <th>pixel4</th>\n",
       "      <th>pixel5</th>\n",
       "      <th>pixel6</th>\n",
       "      <th>pixel7</th>\n",
       "      <th>pixel8</th>\n",
       "      <th>pixel9</th>\n",
       "      <th>...</th>\n",
       "      <th>pixel774</th>\n",
       "      <th>pixel775</th>\n",
       "      <th>pixel776</th>\n",
       "      <th>pixel777</th>\n",
       "      <th>pixel778</th>\n",
       "      <th>pixel779</th>\n",
       "      <th>pixel780</th>\n",
       "      <th>pixel781</th>\n",
       "      <th>pixel782</th>\n",
       "      <th>pixel783</th>\n",
       "    </tr>\n",
       "  </thead>\n",
       "  <tbody>\n",
       "    <tr>\n",
       "      <th>0</th>\n",
       "      <td>0</td>\n",
       "      <td>0</td>\n",
       "      <td>0</td>\n",
       "      <td>0</td>\n",
       "      <td>0</td>\n",
       "      <td>0</td>\n",
       "      <td>0</td>\n",
       "      <td>0</td>\n",
       "      <td>0</td>\n",
       "      <td>0</td>\n",
       "      <td>...</td>\n",
       "      <td>0</td>\n",
       "      <td>0</td>\n",
       "      <td>0</td>\n",
       "      <td>0</td>\n",
       "      <td>0</td>\n",
       "      <td>0</td>\n",
       "      <td>0</td>\n",
       "      <td>0</td>\n",
       "      <td>0</td>\n",
       "      <td>0</td>\n",
       "    </tr>\n",
       "  </tbody>\n",
       "</table>\n",
       "<p>1 rows × 784 columns</p>\n",
       "</div>"
      ],
      "text/plain": [
       "   pixel0  pixel1  pixel2  pixel3  pixel4  pixel5  pixel6  pixel7  pixel8  \\\n",
       "0       0       0       0       0       0       0       0       0       0   \n",
       "\n",
       "   pixel9  ...  pixel774  pixel775  pixel776  pixel777  pixel778  pixel779  \\\n",
       "0       0  ...         0         0         0         0         0         0   \n",
       "\n",
       "   pixel780  pixel781  pixel782  pixel783  \n",
       "0         0         0         0         0  \n",
       "\n",
       "[1 rows x 784 columns]"
      ]
     },
     "execution_count": 6,
     "metadata": {},
     "output_type": "execute_result"
    }
   ],
   "source": [
    "test_df[0:1]"
   ]
  },
  {
   "cell_type": "code",
   "execution_count": 7,
   "id": "destroyed-treasury",
   "metadata": {},
   "outputs": [
    {
     "data": {
      "text/plain": [
       "(16799, 101)"
      ]
     },
     "execution_count": 7,
     "metadata": {},
     "output_type": "execute_result"
    }
   ],
   "source": [
    "train_df.shape"
   ]
  },
  {
   "cell_type": "markdown",
   "id": "turkish-rhythm",
   "metadata": {},
   "source": [
    "### Separate into labels and training images and reshape the images\n"
   ]
  },
  {
   "cell_type": "code",
   "execution_count": 8,
   "id": "hydraulic-cancellation",
   "metadata": {},
   "outputs": [],
   "source": [
    "train_labels = train_df['label'].values\n",
    "train_images = (train_df.iloc[:,1:].values).astype('float32')\n",
    "test_images = (test_df.iloc[:,:].values).astype('float32')\n",
    "\n",
    "# --- Training and Validation Split\n",
    "train_images, val_images, train_labels, val_labels = train_test_split(train_images, train_labels,\n",
    "                                                                      stratify=train_labels, random_state=123,\n",
    "                                                                      test_size=0.20)\n"
   ]
  },
  {
   "cell_type": "code",
   "execution_count": 9,
   "id": "respiratory-chrome",
   "metadata": {},
   "outputs": [
    {
     "name": "stdout",
     "output_type": "stream",
     "text": [
      "Train Shape:  (13439, 100)\n",
      "Test Shape :  (28000, 784)\n",
      "Val Shape  :  (3360, 100)\n"
     ]
    }
   ],
   "source": [
    "print(\"Train Shape: \",train_images.shape)\n",
    "print(\"Test Shape : \",test_images.shape)\n",
    "print(\"Val Shape  : \",val_images.shape)"
   ]
  },
  {
   "cell_type": "code",
   "execution_count": 10,
   "id": "honey-chocolate",
   "metadata": {},
   "outputs": [],
   "source": [
    "train_images = train_images.reshape(train_images.shape[0], 10, 10)\n",
    "val_images = val_images.reshape(val_images.shape[0], 10, 10)\n",
    "test_images = test_images.reshape(test_images.shape[0], 28, 28)\n"
   ]
  },
  {
   "cell_type": "code",
   "execution_count": 11,
   "id": "normal-rendering",
   "metadata": {},
   "outputs": [
    {
     "name": "stdout",
     "output_type": "stream",
     "text": [
      "Train Shape:  (13439, 10, 10)\n",
      "Test Shape :  (28000, 28, 28)\n",
      "Val Shape  :  (3360, 10, 10)\n"
     ]
    }
   ],
   "source": [
    "print(\"Train Shape: \",train_images.shape)\n",
    "print(\"Test Shape : \",test_images.shape)\n",
    "print(\"Val Shape  : \",val_images.shape)"
   ]
  },
  {
   "cell_type": "markdown",
   "id": "light-ideal",
   "metadata": {},
   "source": [
    "## Plotting Images"
   ]
  },
  {
   "cell_type": "code",
   "execution_count": 12,
   "id": "yellow-impact",
   "metadata": {},
   "outputs": [
    {
     "data": {
      "image/png": "[encoded data removed]",
      "text/plain": [
       "<Figure size 432x288 with 3 Axes>"
      ]
     },
     "metadata": {
      "needs_background": "light"
     },
     "output_type": "display_data"
    }
   ],
   "source": [
    "# --- train samples\n",
    "for i in range(6, 9):\n",
    "    plt.subplot(330 + (i+1))\n",
    "    plt.imshow(train_images[i])\n",
    "    plt.title(train_labels[i])\n"
   ]
  },
  {
   "cell_type": "code",
   "execution_count": 13,
   "id": "floppy-navigation",
   "metadata": {},
   "outputs": [],
   "source": [
    "# --- train\n",
    "train_images_tensor = torch.from_numpy(train_images)/255.0\n",
    "train_labels_tensor = torch.from_numpy(train_labels)\n",
    "train_tensor = TensorDataset(train_images_tensor, train_labels_tensor)\n",
    "\n",
    "# --- val\n",
    "val_images_tensor = torch.from_numpy(val_images)/255.0\n",
    "val_labels_tensor = torch.from_numpy(val_labels)\n",
    "val_tensor = TensorDataset(val_images_tensor, val_labels_tensor)\n",
    "\n",
    "# --- test\n",
    "test_images_tensor = torch.from_numpy(test_images)/255.0\n"
   ]
  },
  {
   "cell_type": "code",
   "execution_count": 14,
   "id": "demanding-emperor",
   "metadata": {},
   "outputs": [],
   "source": [
    "train_loader = DataLoader(train_tensor, batch_size=4, shuffle=True)\n",
    "val_loader   = DataLoader(val_tensor, batch_size=4, shuffle=True)\n",
    "test_loader  = DataLoader(test_images_tensor, batch_size=4, shuffle=False)\n"
   ]
  },
  {
   "cell_type": "markdown",
   "id": "virgin-montgomery",
   "metadata": {},
   "source": [
    "## Define the CNN Model\n"
   ]
  },
  {
   "cell_type": "code",
   "execution_count": 15,
   "id": "controlling-macintosh",
   "metadata": {},
   "outputs": [],
   "source": [
    "class ConvNet(nn.Module):\n",
    "    def __init__(self):\n",
    "        super(ConvNet, self).__init__()\n",
    "        \n",
    "        # --- Define Conv Part\n",
    "        self.conv_block = nn.Sequential(\n",
    "            nn.Conv2d(1, 4, kernel_size=3, stride=1, padding=1),\n",
    "            nn.ReLU(inplace=True),\n",
    "            nn.MaxPool2d(kernel_size=2, stride=2)\n",
    "        )\n",
    "        \n",
    "        # --- Define Classification Part\n",
    "        self.linear_block = nn.Sequential(\n",
    "            nn.Linear(4*5*5, 4)\n",
    "        )\n",
    "        \n",
    "    # --- Define forward\n",
    "    def forward(self, x):\n",
    "        x = self.conv_block(x)\n",
    "        x = x.view(x.size(0), -1)\n",
    "        x = self.linear_block(x)\n",
    "        return x\n",
    "\n"
   ]
  },
  {
   "cell_type": "code",
   "execution_count": 16,
   "id": "imported-session",
   "metadata": {},
   "outputs": [
    {
     "data": {
      "text/plain": [
       "ConvNet(\n",
       "  (conv_block): Sequential(\n",
       "    (0): Conv2d(1, 4, kernel_size=(3, 3), stride=(1, 1), padding=(1, 1))\n",
       "    (1): ReLU(inplace=True)\n",
       "    (2): MaxPool2d(kernel_size=2, stride=2, padding=0, dilation=1, ceil_mode=False)\n",
       "  )\n",
       "  (linear_block): Sequential(\n",
       "    (0): Linear(in_features=100, out_features=4, bias=True)\n",
       "  )\n",
       ")"
      ]
     },
     "execution_count": 16,
     "metadata": {},
     "output_type": "execute_result"
    }
   ],
   "source": [
    "conv_model = ConvNet()\n",
    "conv_model"
   ]
  },
  {
   "cell_type": "markdown",
   "id": "shared-wilson",
   "metadata": {},
   "source": [
    "## optimizer and loss functions"
   ]
  },
  {
   "cell_type": "code",
   "execution_count": 40,
   "id": "automatic-phase",
   "metadata": {},
   "outputs": [],
   "source": [
    "optimizer = optim.SGD(params=conv_model.parameters(), lr=0.0005)\n",
    "criterion = nn.CrossEntropyLoss()"
   ]
  },
  {
   "cell_type": "markdown",
   "id": "indie-ordinance",
   "metadata": {},
   "source": [
    "## Training the Model\n"
   ]
  },
  {
   "cell_type": "code",
   "execution_count": 35,
   "id": "broadband-caution",
   "metadata": {},
   "outputs": [
    {
     "name": "stdout",
     "output_type": "stream",
     "text": [
      "epoch 1 / 11, loss = 1.2799\n",
      "epoch 3 / 11, loss = 0.9152\n",
      "epoch 5 / 11, loss = 0.6998\n",
      "epoch 7 / 11, loss = 0.1736\n",
      "epoch 9 / 11, loss = 0.4332\n",
      "epoch 11 / 11, loss = 0.1933\n"
     ]
    }
   ],
   "source": [
    "# --- Training \n",
    "n_total_steps = len(train_loader)\n",
    "num_epochs = 11\n",
    "loss_list = []\n",
    "for epoch in range(num_epochs):\n",
    "    for batch_idx, (data, target) in enumerate(train_loader):\n",
    "        # --- make true data and target\n",
    "        temp_target = target.numpy()\n",
    "        result_target = []\n",
    "        for i in temp_target:\n",
    "            if i == 0:\n",
    "                result_target.append(0)\n",
    "            elif i == 1:\n",
    "                result_target.append(1)\n",
    "            elif i == 5:\n",
    "                result_target.append(2)\n",
    "            elif i == 9:\n",
    "                result_target.append(3)\n",
    "                \n",
    "        target = torch.tensor(result_target)\n",
    "        data = data.unsqueeze(1)\n",
    "        \n",
    "        # --- forward\n",
    "        output = conv_model(data)\n",
    "        loss = criterion(output, target)\n",
    "        \n",
    "        # --- backward\n",
    "        optimizer.zero_grad()\n",
    "        loss.backward()\n",
    "        optimizer.step()\n",
    "        \n",
    "    # --- some Info\n",
    "    if epoch%2 == 0:\n",
    "        print(f'epoch {epoch+1} / {num_epochs}, loss = {loss.item():.4f}')\n",
    "    loss_list.append(loss.item())\n"
   ]
  },
  {
   "cell_type": "code",
   "execution_count": 36,
   "id": "incorporated-continent",
   "metadata": {},
   "outputs": [
    {
     "data": {
      "image/png": "[encoded data removed]",
      "text/plain": [
       "<Figure size 432x288 with 1 Axes>"
      ]
     },
     "metadata": {
      "needs_background": "light"
     },
     "output_type": "display_data"
    }
   ],
   "source": [
    "# --- Plot Loss \n",
    "x = range(num_epochs)\n",
    "plt.plot(x, loss_list)\n",
    "plt.show()"
   ]
  },
  {
   "cell_type": "code",
   "execution_count": 13,
   "id": "loose-kidney",
   "metadata": {},
   "outputs": [
    {
     "data": {
      "text/plain": [
       "ConvNet(\n",
       "  (conv_block): Sequential(\n",
       "    (0): Conv2d(1, 4, kernel_size=(3, 3), stride=(1, 1), padding=(1, 1))\n",
       "    (1): ReLU(inplace=True)\n",
       "    (2): MaxPool2d(kernel_size=2, stride=2, padding=0, dilation=1, ceil_mode=False)\n",
       "  )\n",
       "  (linear_block): Sequential(\n",
       "    (0): Linear(in_features=100, out_features=4, bias=True)\n",
       "  )\n",
       ")"
      ]
     },
     "execution_count": 13,
     "metadata": {},
     "output_type": "execute_result"
    }
   ],
   "source": [
    "# --- save the model\n",
    "# torch.save(conv_model.state_dict(), \"./models/model.pt\")\n",
    "\n",
    "# --- load the model\n",
    "conv_model.load_state_dict(torch.load(\"./models/model.pt\"))\n",
    "conv_model.eval()\n"
   ]
  },
  {
   "cell_type": "markdown",
   "id": "allied-concern",
   "metadata": {},
   "source": [
    "## Evaluate CNN model"
   ]
  },
  {
   "cell_type": "code",
   "execution_count": 18,
   "id": "hydraulic-tribe",
   "metadata": {},
   "outputs": [
    {
     "name": "stdout",
     "output_type": "stream",
     "text": [
      "\n",
      "Average Val Loss: 0.2602, Val Accuracy: 3140/3360 (93.452%)\n",
      "\n"
     ]
    }
   ],
   "source": [
    "conv_model.eval()\n",
    "loss = 0\n",
    "correct = 0\n",
    "\n",
    "with torch.no_grad():\n",
    "    for data, target in val_loader:\n",
    "        \n",
    "        # --- make true data and target\n",
    "        temp_target = target.numpy()\n",
    "        result_target = []\n",
    "        for i in temp_target:\n",
    "            if i == 0:\n",
    "                result_target.append(0)\n",
    "            elif i == 1:\n",
    "                result_target.append(1)\n",
    "            elif i == 5:\n",
    "                result_target.append(2)\n",
    "            elif i == 9:\n",
    "                result_target.append(3)\n",
    "                \n",
    "        target = torch.tensor(result_target)\n",
    "        data = data.unsqueeze(1)\n",
    "        output = conv_model(data)\n",
    "\n",
    "        loss += F.cross_entropy(output, target, size_average=False).item()\n",
    "\n",
    "        pred = output.data.max(1, keepdim=True)[1]\n",
    "        correct += pred.eq(target.data.view_as(pred)).cpu().sum()\n",
    "\n",
    "    loss /= len(val_loader.dataset)\n",
    "\n",
    "    print('\\nAverage Val Loss: {:.4f}, Val Accuracy: {}/{} ({:.3f}%)\\n'.format(\n",
    "        loss, correct, len(val_loader.dataset),\n",
    "        100. * correct / len(val_loader.dataset)))"
   ]
  },
  {
   "cell_type": "markdown",
   "id": "fixed-extra",
   "metadata": {},
   "source": [
    "## Test Dataset and Visualization"
   ]
  },
  {
   "cell_type": "code",
   "execution_count": 19,
   "id": "general-effort",
   "metadata": {},
   "outputs": [
    {
     "name": "stdout",
     "output_type": "stream",
     "text": [
      "Orginal value   :  5\n",
      "Presicted value :  0\n"
     ]
    },
    {
     "data": {
      "image/png": "[encoded data removed]",
      "text/plain": [
       "<Figure size 432x288 with 1 Axes>"
      ]
     },
     "metadata": {
      "needs_background": "light"
     },
     "output_type": "display_data"
    }
   ],
   "source": [
    "idx = 29\n",
    "# --- plot image\n",
    "test_image = val_images[idx].astype(np.uint8)\n",
    "plt.imshow(test_image)\n",
    "\n",
    "# --- show orginal value\n",
    "print(\"Orginal value   : \", val_labels[idx])\n",
    "\n",
    "# --- show predicted value\n",
    "with torch.no_grad():\n",
    "    tensor_image = torch.from_numpy(val_images[idx])\n",
    "    tensor_image = tensor_image.unsqueeze(0)\n",
    "    tensor_image = tensor_image.unsqueeze(0)\n",
    "    predicted_value = conv_model(tensor_image).numpy()\n",
    "    predicted_value = np.argmax(predicted_value)\n",
    "    if predicted_value == 2:\n",
    "        predicted_value = 5\n",
    "    elif predicted_value == 3:\n",
    "        predicted_value = 9\n",
    "    print(\"Presicted value : \", predicted_value)    \n",
    "            \n",
    "        "
   ]
  },
  {
   "cell_type": "code",
   "execution_count": null,
   "id": "vocal-spokesman",
   "metadata": {},
   "outputs": [],
   "source": [
    "with torch.no_grad():\n",
    "    for idx in range(len(val_labels)):\n",
    "        test_image = val_images[idx].astype(np.uint8)\n",
    "\n",
    "        tensor_image = torch.from_numpy(val_images[idx])\n",
    "        tensor_image = tensor_image.unsqueeze(0)\n",
    "        tensor_image = tensor_image.unsqueeze(0)\n",
    "        predicted_value = conv_model(tensor_image).numpy()\n",
    "        predicted_value = np.argmax(predicted_value)\n",
    "        if predicted_value == 2:\n",
    "            predicted_value = 5\n",
    "        elif predicted_value == 3:\n",
    "            predicted_value = 9\n",
    "\n",
    "        if val_labels[idx] != predicted_value:\n",
    "            print(idx)\n",
    "            "
   ]
  },
  {
   "cell_type": "markdown",
   "id": "answering-argument",
   "metadata": {},
   "source": [
    "## ONNX Export\n"
   ]
  },
  {
   "cell_type": "code",
   "execution_count": 46,
   "id": "built-briefs",
   "metadata": {},
   "outputs": [],
   "source": [
    "# --- Export the model\n",
    "x = torch.randn(4, 1, 10, 10, requires_grad=True)\n",
    "\n",
    "torch.onnx.export(conv_model,                # model being run\n",
    "                  x,                         # model input (or a tuple for multiple inputs)\n",
    "                  \"./models/model.onnx\",     # where to save the model (can be a file or file-like object)\n",
    "                  export_params=True,        # store the trained parameter weights inside the model file\n",
    "                  opset_version=10,          # the ONNX version to export the model to\n",
    "                  input_names = ['input'],   # the model's input names\n",
    "                  output_names = ['output']  # the model's output names\n",
    "                 )\n"
   ]
  },
  {
   "cell_type": "code",
   "execution_count": 4,
   "id": "possible-bicycle",
   "metadata": {},
   "outputs": [],
   "source": [
    "# --- load and check\n",
    "onnx_model = onnx.load(\"./models/model.onnx\")\n",
    "onnx.checker.check_model(onnx_model)\n"
   ]
  },
  {
   "cell_type": "code",
   "execution_count": 5,
   "id": "musical-gamma",
   "metadata": {},
   "outputs": [],
   "source": [
    "from onnx import numpy_helper\n",
    "INTIALIZERS  = onnx_model.graph.initializer\n",
    "nodes=onnx_model.graph.node\n",
    "onnx_weights = {}\n",
    "for initializer in INTIALIZERS:\n",
    "    W = numpy_helper.to_array(initializer)\n",
    "    onnx_weights[initializer.name] = W"
   ]
  },
  {
   "cell_type": "code",
   "execution_count": 6,
   "id": "responsible-watts",
   "metadata": {},
   "outputs": [
    {
     "name": "stdout",
     "output_type": "stream",
     "text": [
      "dict_keys(['conv_block.0.weight', 'conv_block.0.bias', 'linear_block.0.weight', 'linear_block.0.bias', '17'])\n"
     ]
    }
   ],
   "source": [
    "print(onnx_weights.keys())\n",
    "ky=list(onnx_weights.keys())\n"
   ]
  },
  {
   "cell_type": "code",
   "execution_count": 17,
   "id": "domestic-origin",
   "metadata": {},
   "outputs": [
    {
     "name": "stdout",
     "output_type": "stream",
     "text": [
      "[[-0.08283696 -0.3559535  -0.13986284]\n",
      " [ 0.04469441 -0.42447752 -0.66592926]\n",
      " [ 0.3191516   0.64586574  0.88528347]]\n"
     ]
    }
   ],
   "source": [
    "conv_w_1 = onnx_weights['conv_block.0.weight'][0][0]\n",
    "print(conv_w_1)"
   ]
  },
  {
   "cell_type": "code",
   "execution_count": 18,
   "id": "effective-search",
   "metadata": {},
   "outputs": [
    {
     "name": "stdout",
     "output_type": "stream",
     "text": [
      "[[ 0.34157342 -0.25934675  0.11585948]\n",
      " [-0.12829612  0.0625388  -0.05002215]\n",
      " [-0.21764195  0.19251591 -0.26899686]]\n"
     ]
    }
   ],
   "source": [
    "conv_w_2 = onnx_weights['conv_block.0.weight'][1][0]\n",
    "print(conv_w_2)"
   ]
  },
  {
   "cell_type": "code",
   "execution_count": 19,
   "id": "wanted-aluminum",
   "metadata": {},
   "outputs": [
    {
     "name": "stdout",
     "output_type": "stream",
     "text": [
      "[[-0.20927872 -0.1884275   0.15589876]\n",
      " [-0.1748103  -0.05102624  0.21250954]\n",
      " [-0.13811535 -0.31749466 -0.05603961]]\n"
     ]
    }
   ],
   "source": [
    "conv_w_3 = onnx_weights['conv_block.0.weight'][2][0]\n",
    "print(conv_w_3)"
   ]
  },
  {
   "cell_type": "code",
   "execution_count": 20,
   "id": "royal-thickness",
   "metadata": {},
   "outputs": [
    {
     "name": "stdout",
     "output_type": "stream",
     "text": [
      "[[ 0.61532557  1.3386121   0.31283677]\n",
      " [ 1.0323175   1.2751912  -0.31333235]\n",
      " [ 1.4164771   0.20937458  0.11632154]]\n"
     ]
    }
   ],
   "source": [
    "conv_w_4 = onnx_weights['conv_block.0.weight'][3][0]\n",
    "print(conv_w_4)"
   ]
  },
  {
   "cell_type": "code",
   "execution_count": 21,
   "id": "political-survival",
   "metadata": {},
   "outputs": [
    {
     "name": "stdout",
     "output_type": "stream",
     "text": [
      "[ 5.2623779e-01 -2.5713012e-01  2.0757751e-01  4.5666384e-04]\n"
     ]
    }
   ],
   "source": [
    "conv_b = onnx_weights['conv_block.0.bias']\n",
    "print(conv_b)"
   ]
  },
  {
   "cell_type": "code",
   "execution_count": 9,
   "id": "geographic-despite",
   "metadata": {},
   "outputs": [
    {
     "name": "stdout",
     "output_type": "stream",
     "text": [
      "[-18.  18.   0.  -6.]\n"
     ]
    }
   ],
   "source": [
    "conv_b = onnx_weights['linear_block.0.bias']\n",
    "print(np.round(conv_b*64))"
   ]
  },
  {
   "cell_type": "code",
   "execution_count": 22,
   "id": "australian-flesh",
   "metadata": {},
   "outputs": [
    {
     "name": "stdout",
     "output_type": "stream",
     "text": [
      "0.7030218\n",
      "1.0476896\n",
      "0.6279603\n",
      "0.7843218\n"
     ]
    }
   ],
   "source": [
    "print(np.max(abs(onnx_weights['linear_block.0.weight'][0])))\n",
    "print(np.max(abs(onnx_weights['linear_block.0.weight'][1])))\n",
    "print(np.max(abs(onnx_weights['linear_block.0.weight'][2])))\n",
    "print(np.max(abs(onnx_weights['linear_block.0.weight'][3])))                                                                                   "
   ]
  },
  {
   "cell_type": "code",
   "execution_count": null,
   "id": "elect-philadelphia",
   "metadata": {},
   "outputs": [],
   "source": []
  },
  {
   "cell_type": "code",
   "execution_count": null,
   "id": "moderate-funeral",
   "metadata": {},
   "outputs": [],
   "source": []
  },
  {
   "cell_type": "markdown",
   "id": "bound-rugby",
   "metadata": {},
   "source": [
    "## Quantizing "
   ]
  },
  {
   "cell_type": "code",
   "execution_count": 28,
   "id": "tired-belief",
   "metadata": {},
   "outputs": [],
   "source": [
    "# ---------- Quntizing Conv layer ---------\n",
    "# --- Conv weights --> (S.1.6)\n",
    "# --- Conv biases  --> (S.0.7)\n",
    "# --- input        --> (S.0.7)\n",
    "# --- W*I          --> (S.5.13)\n",
    "# --- W*I + b      --> (S.6.7)  \n",
    "\n",
    "# ---------- Quantizing Classifiation Layer ------------"
   ]
  },
  {
   "cell_type": "code",
   "execution_count": 24,
   "id": "radical-lying",
   "metadata": {},
   "outputs": [
    {
     "name": "stdout",
     "output_type": "stream",
     "text": [
      "[[ -5. -23.  -9.]\n",
      " [  3. -27. -43.]\n",
      " [ 20.  41.  57.]]\n"
     ]
    }
   ],
   "source": [
    "qconv_w_1 = np.round(conv_w_1*64) \n",
    "print(qconv_w_1)"
   ]
  },
  {
   "cell_type": "code",
   "execution_count": 25,
   "id": "emotional-confusion",
   "metadata": {},
   "outputs": [
    {
     "name": "stdout",
     "output_type": "stream",
     "text": [
      "[[ 22. -17.   7.]\n",
      " [ -8.   4.  -3.]\n",
      " [-14.  12. -17.]]\n"
     ]
    }
   ],
   "source": [
    "qconv_w_2 = np.round(conv_w_2*64) \n",
    "print(qconv_w_2)"
   ]
  },
  {
   "cell_type": "code",
   "execution_count": 26,
   "id": "mineral-issue",
   "metadata": {},
   "outputs": [
    {
     "name": "stdout",
     "output_type": "stream",
     "text": [
      "[[-13. -12.  10.]\n",
      " [-11.  -3.  14.]\n",
      " [ -9. -20.  -4.]]\n"
     ]
    }
   ],
   "source": [
    "qconv_w_3 = np.round(conv_w_3*64) \n",
    "print(qconv_w_3)"
   ]
  },
  {
   "cell_type": "code",
   "execution_count": 27,
   "id": "multiple-violin",
   "metadata": {},
   "outputs": [
    {
     "name": "stdout",
     "output_type": "stream",
     "text": [
      "[[ 39.  86.  20.]\n",
      " [ 66.  82. -20.]\n",
      " [ 91.  13.   7.]]\n"
     ]
    }
   ],
   "source": [
    "qconv_w_4 = np.round(conv_w_4*64) \n",
    "print(qconv_w_4)"
   ]
  },
  {
   "cell_type": "code",
   "execution_count": 28,
   "id": "casual-right",
   "metadata": {},
   "outputs": [
    {
     "name": "stdout",
     "output_type": "stream",
     "text": [
      "[ 67. -33.  27.   0.]\n"
     ]
    }
   ],
   "source": [
    "qconv_b = np.round(conv_b*128) \n",
    "print(qconv_b)"
   ]
  },
  {
   "cell_type": "code",
   "execution_count": 18,
   "id": "understanding-enemy",
   "metadata": {},
   "outputs": [],
   "source": [
    "# --- Quantizing Classificatin Weights\n",
    "qclass_w_1 = np.round(onnx_weights['linear_block.0.weight'][0] * 64)\n",
    "qclass_w_2 = np.round(onnx_weights['linear_block.0.weight'][1] * 64)\n",
    "qclass_w_3 = np.round(onnx_weights['linear_block.0.weight'][2] * 64)\n",
    "qclass_w_4 = np.round(onnx_weights['linear_block.0.weight'][3] * 64)\n"
   ]
  },
  {
   "cell_type": "code",
   "execution_count": 21,
   "id": "cognitive-fifteen",
   "metadata": {},
   "outputs": [],
   "source": [
    "# --- Make binary of concatenated data to write them in BRAM file\n",
    "qclass_w = []\n",
    "for i in range(0,25):\n",
    "    temp =  Bits(int=int(qclass_w_1[i]),length=8).bin    + \\\n",
    "            Bits(int=int(qclass_w_2[i]),length=8).bin    + \\\n",
    "            Bits(int=int(qclass_w_3[i]),length=8).bin    + \\\n",
    "            Bits(int=int(qclass_w_4[i]),length=8).bin    + \\\n",
    "            Bits(int=int(qclass_w_1[i+25]),length=8).bin + \\\n",
    "            Bits(int=int(qclass_w_2[i+25]),length=8).bin + \\\n",
    "            Bits(int=int(qclass_w_3[i+25]),length=8).bin + \\\n",
    "            Bits(int=int(qclass_w_4[i+25]),length=8).bin + \\\n",
    "            Bits(int=int(qclass_w_1[i+50]),length=8).bin + \\\n",
    "            Bits(int=int(qclass_w_2[i+50]),length=8).bin + \\\n",
    "            Bits(int=int(qclass_w_3[i+50]),length=8).bin + \\\n",
    "            Bits(int=int(qclass_w_4[i+50]),length=8).bin + \\\n",
    "            Bits(int=int(qclass_w_1[i+75]),length=8).bin + \\\n",
    "            Bits(int=int(qclass_w_2[i+75]),length=8).bin + \\\n",
    "            Bits(int=int(qclass_w_3[i+75]),length=8).bin + \\\n",
    "            Bits(int=int(qclass_w_4[i+75]),length=8).bin\n",
    "    qclass_w.append(temp)"
   ]
  },
  {
   "cell_type": "code",
   "execution_count": 23,
   "id": "dense-radical",
   "metadata": {},
   "outputs": [
    {
     "data": {
      "text/plain": [
       "-3.0"
      ]
     },
     "execution_count": 23,
     "metadata": {},
     "output_type": "execute_result"
    }
   ],
   "source": [
    "np.round((onnx_weights['linear_block.0.weight'][0][0])* 64)"
   ]
  },
  {
   "cell_type": "code",
   "execution_count": 29,
   "id": "liquid-discovery",
   "metadata": {},
   "outputs": [
    {
     "data": {
      "text/plain": [
       "-0.04208606"
      ]
     },
     "execution_count": 29,
     "metadata": {},
     "output_type": "execute_result"
    }
   ],
   "source": [
    "onnx_weights['linear_block.0.weight'][0][0]"
   ]
  },
  {
   "cell_type": "code",
   "execution_count": 21,
   "id": "clean-franklin",
   "metadata": {},
   "outputs": [
    {
     "data": {
      "text/plain": [
       "-0.046875"
      ]
     },
     "execution_count": 21,
     "metadata": {},
     "output_type": "execute_result"
    }
   ],
   "source": [
    "-384/8192"
   ]
  },
  {
   "cell_type": "code",
   "execution_count": 69,
   "id": "three-optimization",
   "metadata": {},
   "outputs": [],
   "source": [
    "# --- Insert data in .COE BRAM initialization file\n",
    "f = open(\"./inc/class_BRAM.coe\", \"w\")\n",
    "f.write('memory_initialization_radix = 2;')\n",
    "f.write(\"\\n\")\n",
    "f.write('memory_initialization_vector =')\n",
    "f.write(\"\\n\")\n",
    "for index,data in enumerate(qclass_w):\n",
    "    f.write(data)\n",
    "    if index == len(qclass_w)-1:\n",
    "        f.write(';')\n",
    "    else:\n",
    "        f.write(',')\n",
    "    f.write(\"\\n\")\n",
    "        \n",
    "f.close()"
   ]
  },
  {
   "cell_type": "code",
   "execution_count": null,
   "id": "consecutive-disco",
   "metadata": {},
   "outputs": [],
   "source": []
  },
  {
   "cell_type": "code",
   "execution_count": null,
   "id": "cooperative-breakdown",
   "metadata": {},
   "outputs": [],
   "source": []
  },
  {
   "cell_type": "code",
   "execution_count": null,
   "id": "spatial-horizon",
   "metadata": {},
   "outputs": [],
   "source": []
  },
  {
   "cell_type": "markdown",
   "id": "physical-lotus",
   "metadata": {},
   "source": [
    "## Test An Image"
   ]
  },
  {
   "cell_type": "code",
   "execution_count": 23,
   "id": "mature-shell",
   "metadata": {},
   "outputs": [
    {
     "data": {
      "text/plain": [
       "(13439, 10, 10)"
      ]
     },
     "execution_count": 23,
     "metadata": {},
     "output_type": "execute_result"
    }
   ],
   "source": [
    "train_images.shape"
   ]
  },
  {
   "cell_type": "code",
   "execution_count": 31,
   "id": "recent-details",
   "metadata": {},
   "outputs": [
    {
     "name": "stdout",
     "output_type": "stream",
     "text": [
      "Orginal Value is:  1\n",
      "Predicted Value is:  tensor([[-2.9169,  3.6037,  0.1704, -0.2773]], grad_fn=<AddmmBackward>)\n"
     ]
    }
   ],
   "source": [
    "test_image = train_images[0]\n",
    "test_tensor = torch.from_numpy(test_image/255)\n",
    "test_tensor = test_tensor.unsqueeze(0)\n",
    "test_tensor = test_tensor.unsqueeze(0)\n",
    "test_tensor.shape\n",
    "print(\"Orginal Value is: \", train_labels[0])\n",
    "print(\"Predicted Value is: \",conv_model(test_tensor))"
   ]
  },
  {
   "cell_type": "code",
   "execution_count": 18,
   "id": "architectural-rental",
   "metadata": {},
   "outputs": [
    {
     "name": "stdout",
     "output_type": "stream",
     "text": [
      "Orginal Value is:  1\n",
      "Predicted Value is:  tensor([[ 3.5500, -2.6531,  1.3534, -1.3254]], grad_fn=<AddmmBackward>)\n"
     ]
    }
   ],
   "source": [
    "test_image = train_images[500]\n",
    "test_tensor = torch.from_numpy(test_image/255)\n",
    "test_tensor = test_tensor.unsqueeze(0)\n",
    "test_tensor = test_tensor.unsqueeze(0)\n",
    "test_tensor.shape\n",
    "print(\"Orginal Value is: \", train_labels[0])\n",
    "print(\"Predicted Value is: \",conv_model(test_tensor))"
   ]
  },
  {
   "cell_type": "code",
   "execution_count": 21,
   "id": "technical-cliff",
   "metadata": {},
   "outputs": [
    {
     "data": {
      "text/plain": [
       "array([ 227., -170.,   87.,  -85.])"
      ]
     },
     "execution_count": 21,
     "metadata": {},
     "output_type": "execute_result"
    }
   ],
   "source": [
    "np.round(np.array([ 3.5500, -2.6531,  1.3534, -1.3254]) * 64)"
   ]
  },
  {
   "cell_type": "code",
   "execution_count": 13,
   "id": "amino-blackjack",
   "metadata": {},
   "outputs": [
    {
     "data": {
      "text/plain": [
       "array([ 0.059375,  0.012475, -0.087775, -0.002725])"
      ]
     },
     "execution_count": 13,
     "metadata": {},
     "output_type": "execute_result"
    }
   ],
   "source": [
    "(np.array([231, -169, 81, -85]) / 64) - np.array([ 3.5500, -2.6531,  1.3534, -1.3254])"
   ]
  },
  {
   "cell_type": "code",
   "execution_count": 24,
   "id": "fiscal-moisture",
   "metadata": {},
   "outputs": [
    {
     "data": {
      "text/plain": [
       "array([ 3.60492024, -2.64144668,  1.26697331, -1.32941756])"
      ]
     },
     "execution_count": 24,
     "metadata": {},
     "output_type": "execute_result"
    }
   ],
   "source": [
    "np.array([ 3.890625, -2.921875,  1.265625, -1.234375]) + onnx_weights['linear_block.0.bias']"
   ]
  },
  {
   "cell_type": "code",
   "execution_count": 11,
   "id": "generic-carpet",
   "metadata": {},
   "outputs": [
    {
     "data": {
      "text/plain": [
       "array([-18.285105  ,  17.947412  ,   0.08629173,  -6.0827236 ],\n",
       "      dtype=float32)"
      ]
     },
     "execution_count": 11,
     "metadata": {},
     "output_type": "execute_result"
    }
   ],
   "source": [
    "onnx_weights['linear_block.0.bias']*64"
   ]
  },
  {
   "cell_type": "code",
   "execution_count": 53,
   "id": "fewer-angola",
   "metadata": {},
   "outputs": [],
   "source": [
    "# --- 1.31 us\n",
    "# --- 996  us"
   ]
  },
  {
   "cell_type": "code",
   "execution_count": 32,
   "id": "passing-substitute",
   "metadata": {},
   "outputs": [
    {
     "data": {
      "text/plain": [
       "array([[  0.,   0.,   0.,   0.,   0.,   0.,   0.,   0.,   0.,   0.],\n",
       "       [  0.,   0.,   0.,   0.,   4., 165.,   3.,   0.,   0.,   0.],\n",
       "       [  0.,   0.,   0.,   0., 145., 251.,  56.,   0.,   0.,   0.],\n",
       "       [  0.,   0.,   0.,   0., 225., 253.,   4.,   0.,   0.,   0.],\n",
       "       [  0.,   0.,   0.,   0., 248., 242.,   0.,   0.,   0.,   0.],\n",
       "       [  0.,   0.,   0.,   6., 251., 223.,   0.,   0.,   0.,   0.],\n",
       "       [  0.,   0.,   0.,   9., 251., 223.,   0.,   0.,   0.,   0.],\n",
       "       [  0.,   0.,   0.,   1., 251., 248.,   0.,   0.,   0.,   0.],\n",
       "       [  0.,   0.,   0.,   0., 150., 163.,   0.,   0.,   0.,   0.],\n",
       "       [  0.,   0.,   0.,   0.,   0.,   0.,   0.,   0.,   0.,   0.]],\n",
       "      dtype=float32)"
      ]
     },
     "execution_count": 32,
     "metadata": {},
     "output_type": "execute_result"
    }
   ],
   "source": [
    "test_image"
   ]
  },
  {
   "cell_type": "code",
   "execution_count": 19,
   "id": "equivalent-classification",
   "metadata": {},
   "outputs": [
    {
     "data": {
      "text/plain": [
       "array([[  0.,   0.,   0.,   0.,   0.,   0.,   0.,   0.,   0.,   0.],\n",
       "       [  0.,   0.,   0.,   0.,   0.,   0.,   0.,   0.,   0.,   0.],\n",
       "       [  0.,   0.,   0.,   0., 242., 233., 234.,   2.,   0.,   0.],\n",
       "       [  0.,   0.,   0.,  28., 247.,   0.,   7., 116.,   0.,   0.],\n",
       "       [  0.,   0.,   0., 118.,   0.,   0.,   0., 186.,   0.,   0.],\n",
       "       [  0.,   0.,   0., 230.,   0.,   0.,   0., 193.,   0.,   0.],\n",
       "       [  0.,   0.,   0., 215.,   0.,   0.,   0., 140.,   0.,   0.],\n",
       "       [  0.,   0.,   0., 206.,   0.,   0.,  63.,  72.,   0.,   0.],\n",
       "       [  0.,   0.,   0., 169.,  75., 128., 168.,   0.,   0.,   0.],\n",
       "       [  0.,   0.,   0.,   0.,   0.,   0.,   0.,   0.,   0.,   0.]],\n",
       "      dtype=float32)"
      ]
     },
     "execution_count": 19,
     "metadata": {},
     "output_type": "execute_result"
    }
   ],
   "source": [
    "test_image"
   ]
  },
  {
   "cell_type": "code",
   "execution_count": 32,
   "id": "vulnerable-applicant",
   "metadata": {},
   "outputs": [
    {
     "data": {
      "text/plain": [
       "array([[  0.,   0.,   0.,   0.,   0.,   0.,   0.,   0.,   0.,   0.],\n",
       "       [  0.,   0.,   0.,   0.,   3.,  83.,   2.,   0.,   0.,   0.],\n",
       "       [  0.,   0.,   0.,   0.,  73., 126.,  29.,   0.,   0.,   0.],\n",
       "       [  0.,   0.,   0.,   0., 113., 127.,   3.,   0.,   0.,   0.],\n",
       "       [  0.,   0.,   0.,   0., 125., 122.,   0.,   0.,   0.,   0.],\n",
       "       [  0.,   0.,   0.,   4., 126., 112.,   0.,   0.,   0.,   0.],\n",
       "       [  0.,   0.,   0.,   5., 126., 112.,   0.,   0.,   0.,   0.],\n",
       "       [  0.,   0.,   0.,   1., 126., 125.,   0.,   0.,   0.,   0.],\n",
       "       [  0.,   0.,   0.,   0.,  76.,  82.,   0.,   0.,   0.,   0.],\n",
       "       [  0.,   0.,   0.,   0.,   0.,   0.,   0.,   0.,   0.,   0.]],\n",
       "      dtype=float32)"
      ]
     },
     "execution_count": 32,
     "metadata": {},
     "output_type": "execute_result"
    }
   ],
   "source": [
    "np.ceil((test_image/255)*128)"
   ]
  },
  {
   "cell_type": "code",
   "execution_count": 86,
   "id": "editorial-central",
   "metadata": {},
   "outputs": [],
   "source": [
    "# --- Make an stream data from normalized image\n",
    "f = open(\"./inc/image_stream.txt\", \"w\")\n",
    "for i in test_image:\n",
    "    for j in i:\n",
    "        if j == 255:\n",
    "            j = 254\n",
    "        j = math.ceil(j/255 * 128)\n",
    "        f.write(str(j))\n",
    "        f.write(\"\\n\")\n",
    "\n",
    "for i in range(17):\n",
    "    f.write(str(0))\n",
    "    f.write(\"\\n\")\n",
    "        \n",
    "f.close()\n"
   ]
  },
  {
   "cell_type": "code",
   "execution_count": 20,
   "id": "sealed-bermuda",
   "metadata": {},
   "outputs": [],
   "source": [
    "# --- Make an stream data from normalized image\n",
    "f = open(\"./inc/image_stream2.txt\", \"w\")\n",
    "for i in test_image:\n",
    "    for j in i:\n",
    "        if j == 255:\n",
    "            j = 254\n",
    "        j = math.ceil(j/255 * 128)\n",
    "        f.write(str(j))\n",
    "        f.write(\"\\n\")\n",
    "\n",
    "for i in range(17):\n",
    "    f.write(str(0))\n",
    "    f.write(\"\\n\")\n",
    "        \n",
    "f.close()"
   ]
  },
  {
   "cell_type": "code",
   "execution_count": 114,
   "id": "tamil-cattle",
   "metadata": {},
   "outputs": [
    {
     "name": "stdout",
     "output_type": "stream",
     "text": [
      "[[ 67  67  67  69 142 122  94  67  67  67]\n",
      " [ 67  67  67 130 168 160 128  76  67  67]\n",
      " [ 67  67  67 118 124  86  95  69  67  67]\n",
      " [ 67  67  67  92  78  78  89  64  67  67]\n",
      " [ 67  67  70  81  55  77  96  66  67  67]\n",
      " [ 67  67  68  78  58  83  97  67  67  67]\n",
      " [ 67  67  63  73  69  95 102  67  67  67]\n",
      " [ 67  67  65  30 -10  46  89  67  67  67]\n",
      " [ 67  67  66  -3 -84 -19  61  67  67  67]\n",
      " [ 67  67  67  56  28  31  60  67  67  67]]\n"
     ]
    }
   ],
   "source": [
    "# --- recover stream result from FPGA\n",
    "file1 = open('./inc/result_conv.txt', 'r')\n",
    "Lines = file1.readlines()\n",
    "\n",
    "data = []\n",
    "for index,line in enumerate(Lines):\n",
    "    if index>=19 and index<119:\n",
    "        data.append(int(line))\n",
    "\n",
    "file1.close()\n",
    "data = np.array(data)\n",
    "data = data.reshape(10,10)\n",
    "print(data)"
   ]
  },
  {
   "cell_type": "code",
   "execution_count": 43,
   "id": "frank-export",
   "metadata": {},
   "outputs": [
    {
     "name": "stdout",
     "output_type": "stream",
     "text": [
      "[[  27.   27.   27.   27.   22.   -0.   15.   27.   27.   27.]\n",
      " [  27.   27.   27.   23.   14.  -29.  -14.   23.   27.   27.]\n",
      " [  27.   27.   27.   37.   20.  -58.  -32.   22.   27.   27.]\n",
      " [  27.   27.   27.   55.    8.  -89.  -44.   21.   27.   27.]\n",
      " [  27.   27.   27.   63.   -2. -101.  -37.   27.   27.   27.]\n",
      " [  27.   27.   27.   65.   -8. -103.  -33.   27.   27.   27.]\n",
      " [  27.   27.   28.   65.  -10. -105.  -33.   27.   27.   27.]\n",
      " [  27.   27.   28.   68.   11.  -85.  -29.   27.   27.   27.]\n",
      " [  27.   27.   27.   63.   36.  -40.  -13.   27.   27.   27.]\n",
      " [  27.   27.   27.   39.   26.   -4.   10.   27.   27.   27.]]\n"
     ]
    }
   ],
   "source": [
    "conved = functions.convolution2d(test_image/255, conv_w_3, 1, 1) + conv_b[2]\n",
    "print(np.ceil(conved*128))"
   ]
  },
  {
   "cell_type": "code",
   "execution_count": 38,
   "id": "coupled-spectacular",
   "metadata": {},
   "outputs": [
    {
     "data": {
      "text/plain": [
       "-32.912654876708984"
      ]
     },
     "execution_count": 38,
     "metadata": {},
     "output_type": "execute_result"
    }
   ],
   "source": [
    "conv_b[1] * 128"
   ]
  },
  {
   "cell_type": "code",
   "execution_count": 41,
   "id": "other-reputation",
   "metadata": {},
   "outputs": [
    {
     "data": {
      "text/plain": [
       "26.569921493530273"
      ]
     },
     "execution_count": 41,
     "metadata": {},
     "output_type": "execute_result"
    }
   ],
   "source": [
    "conv_b[2] * 128"
   ]
  },
  {
   "cell_type": "code",
   "execution_count": null,
   "id": "herbal-italian",
   "metadata": {},
   "outputs": [],
   "source": []
  }
 ],
 "metadata": {
  "kernelspec": {
   "display_name": "Python 3",
   "language": "python",
   "name": "python3"
  },
  "language_info": {
   "codemirror_mode": {
    "name": "ipython",
    "version": 3
   },
   "file_extension": ".py",
   "mimetype": "text/x-python",
   "name": "python",
   "nbconvert_exporter": "python",
   "pygments_lexer": "ipython3",
   "version": "3.9.2"
  }
 },
 "nbformat": 4,
 "nbformat_minor": 5
}
